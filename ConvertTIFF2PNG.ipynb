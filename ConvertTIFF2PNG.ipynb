{
 "cells": [
  {
   "cell_type": "code",
   "execution_count": null,
   "metadata": {},
   "outputs": [],
   "source": [
    "import numpy as np # linear algebra\n",
    "import pandas as pd # data processing, CSV file I/O (e.g. pd.read_csv)\n",
    "\n",
    "import matplotlib.pylab as plt\n"
   ]
  },
  {
   "cell_type": "code",
   "execution_count": null,
   "metadata": {},
   "outputs": [],
   "source": [
    "from fastai.conv_learner import *\n",
    "from fastai.dataset import *\n"
   ]
  },
  {
   "cell_type": "markdown",
   "metadata": {},
   "source": [
    "### Look at the data set"
   ]
  },
  {
   "cell_type": "markdown",
   "metadata": {},
   "source": [
    "Lets look at the size of the datasets.\n",
    "\n",
    "NOTE: The data set was taken from the thesis project of V Minh at the University of Toronto: https://www.cs.toronto.edu/~vmnih/data/"
   ]
  },
  {
   "cell_type": "code",
   "execution_count": null,
   "metadata": {},
   "outputs": [],
   "source": [
    "!echo 'Training set'\n",
    "!ls ~/fastai/data/roads/mass_roads/train/sat | wc -l\n",
    "!ls ~/fastai/data/roads/mass_roads/train/map | wc -l\n",
    "!echo 'Validation Set'\n",
    "!ls ~/fastai/data/roads/mass_roads/valid/sat | wc -l\n",
    "!ls ~/fastai/data/roads/mass_roads/valid/map | wc -l\n",
    "!echo 'Test Set'\n",
    "!ls ~/fastai/data/roads/mass_roads/test/sat | wc -l\n",
    "!ls ~/fastai/data/roads/mass_roads/test/sat | wc -l"
   ]
  },
  {
   "cell_type": "code",
   "execution_count": null,
   "metadata": {},
   "outputs": [],
   "source": [
    "import os \n",
    "from glob import glob\n",
    "\n",
    "INPUT_PATH = '/home/ubuntu/fastai/data/roads/mass_roads'\n",
    "DATA_PATH = INPUT_PATH\n",
    "TRAIN_DATA = os.path.join(DATA_PATH, \"train/sat\")\n",
    "TRAIN_MASKS_DATA = os.path.join(DATA_PATH, \"train/map\")\n",
    "VALID_DATA = os.path.join(DATA_PATH, \"valid/sat\")\n",
    "VALID_MASKS_DATA = os.path.join(DATA_PATH, \"valid/map\")\n",
    "\n",
    "TEST_DATA = os.path.join(DATA_PATH, \"test/sat\")\n",
    "\n",
    "TRAIN_DATA_PATH = os.path.join(DATA_PATH, \"train\")\n",
    "VALID_DATA_PATH = os.path.join(DATA_PATH, \"valid\")\n",
    "TEST_DATA_PATH = os.path.join(DATA_PATH, \"test\")"
   ]
  },
  {
   "cell_type": "code",
   "execution_count": null,
   "metadata": {},
   "outputs": [],
   "source": [
    "TRAIN_DATA"
   ]
  },
  {
   "cell_type": "code",
   "execution_count": null,
   "metadata": {},
   "outputs": [],
   "source": [
    "!ls {TRAIN_DATA} | tail -10"
   ]
  },
  {
   "cell_type": "code",
   "execution_count": null,
   "metadata": {},
   "outputs": [],
   "source": [
    "train_files = glob(os.path.join(TRAIN_DATA, \"*.tiff\"))\n",
    "train_files[:10]"
   ]
  },
  {
   "cell_type": "code",
   "execution_count": null,
   "metadata": {},
   "outputs": [],
   "source": [
    "train_ids = [s[len(TRAIN_DATA)+1:-5] for s in train_files]"
   ]
  },
  {
   "cell_type": "code",
   "execution_count": null,
   "metadata": {},
   "outputs": [],
   "source": [
    "train_ids[:5]"
   ]
  },
  {
   "cell_type": "code",
   "execution_count": null,
   "metadata": {},
   "outputs": [],
   "source": [
    "test_files = glob(os.path.join(TEST_DATA, \"*.tiff\"))\n",
    "test_ids = [s[len(TEST_DATA)+1:-5] for s in test_files]"
   ]
  },
  {
   "cell_type": "code",
   "execution_count": null,
   "metadata": {},
   "outputs": [],
   "source": [
    "test_ids[:5]"
   ]
  },
  {
   "cell_type": "code",
   "execution_count": null,
   "metadata": {},
   "outputs": [],
   "source": [
    "def get_filename(image_id, image_type):\n",
    "    check_dir = False\n",
    "    if \"Train\" == image_type:\n",
    "        ext = 'tiff'\n",
    "        data_path = TRAIN_DATA\n",
    "    elif \"Train_mask\" in image_type:\n",
    "        ext = 'tif'\n",
    "        data_path = TRAIN_MASKS_DATA\n",
    "    elif \"Test\" in image_type:\n",
    "        ext = 'tiff'\n",
    "        data_path = TEST_DATA\n",
    "    else:\n",
    "        raise Exception(\"Image type '%s' is not recognized\" % image_type)\n",
    "\n",
    "    if check_dir and not os.path.exists(data_path):\n",
    "        os.makedirs(data_path)\n",
    "\n",
    "    return os.path.join(data_path, \"{}.{}\".format(image_id, ext))"
   ]
  },
  {
   "cell_type": "code",
   "execution_count": null,
   "metadata": {},
   "outputs": [],
   "source": [
    "get_filename(10828750_15, 'Train')"
   ]
  },
  {
   "cell_type": "code",
   "execution_count": null,
   "metadata": {},
   "outputs": [],
   "source": [
    "get_filename(10828750_15, 'Train_mask')"
   ]
  },
  {
   "cell_type": "code",
   "execution_count": null,
   "metadata": {},
   "outputs": [],
   "source": [
    "import cv2\n",
    "from PIL import Image\n",
    "\n",
    "\n",
    "def get_image_data(image_id, image_type, **kwargs):\n",
    "    if 'mask' in image_type:\n",
    "        img = _get_image_data_pil(image_id, image_type, **kwargs)\n",
    "    else:\n",
    "        img = _get_image_data_opencv(image_id, image_type, **kwargs)\n",
    "    return img\n",
    "\n",
    "def _get_image_data_opencv(image_id, image_type, **kwargs):\n",
    "    fname = get_filename(image_id, image_type)\n",
    "    img = cv2.imread(fname)\n",
    "    assert img is not None, \"Failed to read image : %s, %s\" % (image_id, image_type)\n",
    "    img = cv2.cvtColor(img, cv2.COLOR_BGR2RGB)\n",
    "    return img\n",
    "\n",
    "\n",
    "def _get_image_data_pil(image_id, image_type, return_exif_md=False, return_shape_only=False):\n",
    "    fname = get_filename(image_id, image_type)\n",
    "    \n",
    "    try:\n",
    "        img_pil = Image.open(fname)\n",
    "    except Exception as e:\n",
    "        assert False, \"Failed to read image : %s, %s. Error message: %s\" % (image_id, image_type, e)\n",
    "\n",
    "    if return_shape_only:\n",
    "        return img_pil.size[::-1] + (len(img_pil.getbands()),)\n",
    "\n",
    "    img = np.asarray(img_pil)\n",
    "    assert isinstance(img, np.ndarray), \"Open image is not an ndarray. Image id/type : %s, %s\" % (image_id, image_type)\n",
    "    if not return_exif_md:\n",
    "        return img\n",
    "    else:\n",
    "        return img, img_pil._getexif()"
   ]
  },
  {
   "cell_type": "markdown",
   "metadata": {},
   "source": [
    "### Display a single image"
   ]
  },
  {
   "cell_type": "code",
   "execution_count": null,
   "metadata": {},
   "outputs": [],
   "source": [
    "image_id = train_ids[0]\n",
    "\n",
    "plt.figure(figsize=(20, 20))\n",
    "img = get_image_data(image_id, \"Train\")\n",
    "mask = get_image_data(image_id, \"Train_mask\")\n",
    "img_masked = cv2.bitwise_and(img, img, mask=mask)\n",
    "\n",
    "print(\"Image shape: {} | image type: {} | mask shape: {} | mask type: {}\".format(img.shape, img.dtype, mask.shape, mask.dtype) )\n",
    "\n",
    "plt.subplot(131)\n",
    "plt.imshow(img)\n",
    "plt.subplot(132)\n",
    "plt.imshow(mask)\n",
    "plt.subplot(133)\n",
    "plt.imshow(img_masked)"
   ]
  },
  {
   "cell_type": "code",
   "execution_count": null,
   "metadata": {},
   "outputs": [],
   "source": [
    "img_shape = [get_image_data(id, \"Train\").shape for id in train_ids]\n",
    "img_shape[:5]"
   ]
  },
  {
   "cell_type": "code",
   "execution_count": null,
   "metadata": {},
   "outputs": [],
   "source": [
    "mask_shape = [get_image_data(id, \"Train_mask\").shape for id in train_ids]\n",
    "mask_shape[:5]"
   ]
  },
  {
   "cell_type": "markdown",
   "metadata": {},
   "source": [
    "### Convert to PNG\n",
    "\n",
    "First: Convert the original .tif files to png and sore in directory 'train/sat_png'\n",
    "Second: convert the mask .tif files to .png and store in the directory 'train/map_png'"
   ]
  },
  {
   "cell_type": "markdown",
   "metadata": {},
   "source": [
    "#### Convert the training set to .png files"
   ]
  },
  {
   "cell_type": "code",
   "execution_count": null,
   "metadata": {},
   "outputs": [],
   "source": [
    "INPUT_PATH_PNG = '/home/ubuntu/fastai/data/roads/mass_roads_png'\n",
    "DATA_PATH_PNG = INPUT_PATH_PNG\n",
    "TRAIN_PATH_PNG=os.path.join(DATA_PATH_PNG, \"train\")\n",
    "TRAIN_DATA_PNG = os.path.join(DATA_PATH_PNG, \"train/sat\")\n",
    "TRAIN_MASKS_DATA_PNG = os.path.join(DATA_PATH_PNG, \"train/map\")\n",
    "TEST_DATA_PNG = os.path.join(DATA_PATH_PNG, \"test/sat\")"
   ]
  },
  {
   "cell_type": "code",
   "execution_count": null,
   "metadata": {},
   "outputs": [],
   "source": [
    "TRAIN_PATH_PNG"
   ]
  },
  {
   "cell_type": "code",
   "execution_count": null,
   "metadata": {},
   "outputs": [],
   "source": [
    "TRAIN_DATA"
   ]
  },
  {
   "cell_type": "code",
   "execution_count": null,
   "metadata": {},
   "outputs": [],
   "source": [
    "TRAIN_DATA_PNG"
   ]
  },
  {
   "cell_type": "code",
   "execution_count": null,
   "metadata": {},
   "outputs": [],
   "source": [
    "import pathlib\n",
    "pathlib.Path(f'{TRAIN_PATH}/sat').mkdir(parents=True, exist_ok=True) \n",
    "pathlib.Path(f'{TRAIN_PATH}/map').mkdir(parents=True, exist_ok=True) "
   ]
  },
  {
   "cell_type": "code",
   "execution_count": null,
   "metadata": {},
   "outputs": [],
   "source": [
    "train_ids[:5]"
   ]
  },
  {
   "cell_type": "code",
   "execution_count": null,
   "metadata": {},
   "outputs": [],
   "source": [
    "def convert_train_img(fn):\n",
    "    input_file = '{}/{}.tiff'.format(TRAIN_DATA, fn)\n",
    "    #print(input_file)\n",
    "    output_file = '{}/{}.png'.format(TRAIN_DATA_PNG, fn)\n",
    "    #print(output_file)\n",
    "    Image.open(input_file).save(output_file)"
   ]
  },
  {
   "cell_type": "code",
   "execution_count": null,
   "metadata": {},
   "outputs": [],
   "source": [
    "for f in train_ids: convert_img(f)"
   ]
  },
  {
   "cell_type": "code",
   "execution_count": null,
   "metadata": {},
   "outputs": [],
   "source": [
    "def convert_train_mask_img(fn):\n",
    "    input_file = '{}/{}.tif'.format(TRAIN_MASKS_DATA, fn)\n",
    "    output_file = '{}/{}.png'.format(TRAIN_MASKS_DATA_PNG, fn)\n",
    "    Image.open(input_file).save(output_file)"
   ]
  },
  {
   "cell_type": "code",
   "execution_count": null,
   "metadata": {},
   "outputs": [],
   "source": [
    "for f in train_ids: convert_mask_img(f)"
   ]
  },
  {
   "cell_type": "markdown",
   "metadata": {},
   "source": [
    "### Convert the VALIDation files"
   ]
  },
  {
   "cell_type": "code",
   "execution_count": null,
   "metadata": {},
   "outputs": [],
   "source": [
    "valid_files = glob(os.path.join('{}/sat'.format(VALID_DATA_PATH), \"*.tiff\"))\n",
    "valid_files[:10]"
   ]
  },
  {
   "cell_type": "code",
   "execution_count": null,
   "metadata": {},
   "outputs": [],
   "source": [
    "valid_ids = [s[len(TRAIN_DATA)+1:-5] for s in valid_files]\n",
    "valid_ids[:5]"
   ]
  },
  {
   "cell_type": "code",
   "execution_count": null,
   "metadata": {},
   "outputs": [],
   "source": [
    "VALID_DATA_PATH_PNG=os.path.join(DATA_PATH_PNG, \"valid\")"
   ]
  },
  {
   "cell_type": "code",
   "execution_count": null,
   "metadata": {},
   "outputs": [],
   "source": [
    "def convert_valid_img(fn):\n",
    "    input_file = '{}/map/{}.tif'.format(VALID_DATA_PATH, fn)\n",
    "    output_file = '{}/map/{}.png'.format(VALID_DATA_PATH_PNG, fn)\n",
    "    Image.open(input_file).save(output_file)\n",
    "    \n",
    "def convert_valid_mask_img(fn):\n",
    "    input_file = '{}/sat/{}.tiff'.format(VALID_DATA_PATH, fn)\n",
    "    output_file = '{}/sat/{}.png'.format(VALID_DATA_PATH_PNG, fn)\n",
    "    Image.open(input_file).save(output_file)"
   ]
  },
  {
   "cell_type": "code",
   "execution_count": null,
   "metadata": {},
   "outputs": [],
   "source": [
    "for f in valid_ids:\n",
    "    convert_valid_img(f)\n",
    "    convert_valid_mask_img(f)"
   ]
  },
  {
   "cell_type": "markdown",
   "metadata": {},
   "source": [
    "### Now convert the TEST files"
   ]
  },
  {
   "cell_type": "code",
   "execution_count": null,
   "metadata": {},
   "outputs": [],
   "source": [
    "test_files = glob(os.path.join('{}/sat'.format(TEST_DATA_PATH), \"*.tiff\"))\n",
    "test_files[:10]"
   ]
  },
  {
   "cell_type": "code",
   "execution_count": null,
   "metadata": {},
   "outputs": [],
   "source": [
    "TEST_DATA_PATH_ROOT = '{}/sat/'.format(TEST_DATA_PATH)\n",
    "test_ids = [s[len(TEST_DATA_PATH_ROOT):-5] for s in test_files]\n",
    "test_ids[:5]"
   ]
  },
  {
   "cell_type": "code",
   "execution_count": null,
   "metadata": {},
   "outputs": [],
   "source": [
    "TEST_DATA_PATH_PNG=os.path.join(DATA_PATH_PNG, \"test\")"
   ]
  },
  {
   "cell_type": "code",
   "execution_count": null,
   "metadata": {},
   "outputs": [],
   "source": [
    "def convert_test_img(fn):\n",
    "    input_file = '{}/map/{}.tif'.format(TEST_DATA_PATH, fn)\n",
    "    output_file = '{}/map/{}.png'.format(TEST_DATA_PATH_PNG, fn)\n",
    "    Image.open(input_file).save(output_file)\n",
    "    \n",
    "def convert_test_mask_img(fn):\n",
    "    input_file = '{}/sat/{}.tiff'.format(TEST_DATA_PATH, fn)\n",
    "    output_file = '{}/sat/{}.png'.format(TEST_DATA_PATH_PNG, fn)\n",
    "    Image.open(input_file).save(output_file)"
   ]
  },
  {
   "cell_type": "code",
   "execution_count": null,
   "metadata": {},
   "outputs": [],
   "source": [
    "for f in test_ids:\n",
    "    convert_test_img(f)\n",
    "    convert_test_mask_img(f)"
   ]
  }
 ],
 "metadata": {
  "kernelspec": {
   "display_name": "Python [default]",
   "language": "python",
   "name": "python3"
  },
  "language_info": {
   "codemirror_mode": {
    "name": "ipython",
    "version": 3
   },
   "file_extension": ".py",
   "mimetype": "text/x-python",
   "name": "python",
   "nbconvert_exporter": "python",
   "pygments_lexer": "ipython3",
   "version": "3.6.4"
  }
 },
 "nbformat": 4,
 "nbformat_minor": 2
}
