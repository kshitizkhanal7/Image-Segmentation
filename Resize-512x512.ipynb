{
 "cells": [
  {
   "cell_type": "markdown",
   "metadata": {},
   "source": [
    "Original PNG images are 1500x1500x3.  This will resize each image to 512x512x3 and put these files in\n",
    "a new directory."
   ]
  },
  {
   "cell_type": "code",
   "execution_count": 1,
   "metadata": {},
   "outputs": [],
   "source": [
    "import cv2\n",
    "from PIL import Image\n",
    "import os \n",
    "from glob import glob\n",
    "import pathlib\n",
    "\n",
    "import numpy as np # linear algebra\n",
    "import matplotlib.pylab as plt\n"
   ]
  },
  {
   "cell_type": "markdown",
   "metadata": {},
   "source": [
    "## Resize the 1500x1500 files to 512x512"
   ]
  },
  {
   "cell_type": "code",
   "execution_count": 2,
   "metadata": {},
   "outputs": [],
   "source": [
    "INPUT_PATH_PNG = '/home/ubuntu/fastai/data/roads/mass_roads_png'\n",
    "OUTPUT_PATH_PNG_512 = '/home/ubuntu/fastai/data/roads/mass_roads_png_512'"
   ]
  },
  {
   "cell_type": "markdown",
   "metadata": {},
   "source": [
    "### Check that the destination directories are in place."
   ]
  },
  {
   "cell_type": "code",
   "execution_count": 3,
   "metadata": {},
   "outputs": [],
   "source": [
    "def mk_dirs(path, list_of_data_sets):\n",
    "    for p in list_of_data_sets:\n",
    "        sat = '{}/{}/sat'.format(path, p)\n",
    "        map = '{}/{}/map'.format(path, p)\n",
    "        pathlib.Path(sat).mkdir(parents=True, exist_ok=True)\n",
    "        pathlib.Path(map).mkdir(parents=True, exist_ok=True) "
   ]
  },
  {
   "cell_type": "code",
   "execution_count": 6,
   "metadata": {},
   "outputs": [],
   "source": [
    "mk_dirs(OUTPUT_PATH_PNG_512, ['train', 'valid', 'test'])"
   ]
  },
  {
   "cell_type": "code",
   "execution_count": 7,
   "metadata": {},
   "outputs": [],
   "source": [
    "def get_ids(path, data_set):\n",
    "    ''' Look in the \"sat\" directory and get the filenames from here. The\n",
    "    same filenames appear in the \"map\" directory - no need to do it as well.'''\n",
    "    sat_dir = '{}/{}/sat/'.format(path, data_set)\n",
    "    file_dir = '{}*.png'.format(sat_dir)\n",
    "    files = glob(file_dir)\n",
    "    ids = [s[len(sat_dir):-4] for s in files]\n",
    "    return ids"
   ]
  },
  {
   "cell_type": "code",
   "execution_count": 8,
   "metadata": {},
   "outputs": [
    {
     "data": {
      "text/plain": [
       "['22978885_15', '25679230_15', '22678870_15', '17128885_15', '23428960_15']"
      ]
     },
     "execution_count": 8,
     "metadata": {},
     "output_type": "execute_result"
    }
   ],
   "source": [
    "get_ids(INPUT_PATH_PNG, 'train')[:5]"
   ]
  },
  {
   "cell_type": "code",
   "execution_count": 9,
   "metadata": {},
   "outputs": [
    {
     "data": {
      "text/plain": [
       "['24479170_15', '17878735_15', '18178780_15', '10978735_15', '22978990_15']"
      ]
     },
     "execution_count": 9,
     "metadata": {},
     "output_type": "execute_result"
    }
   ],
   "source": [
    "get_ids(INPUT_PATH_PNG, 'valid')[:5]"
   ]
  },
  {
   "cell_type": "markdown",
   "metadata": {},
   "source": [
    "### Resize the TRAINing data"
   ]
  },
  {
   "cell_type": "code",
   "execution_count": 14,
   "metadata": {},
   "outputs": [],
   "source": [
    "def resize_img(fn, data_set, subdir):\n",
    "    input_file = '{}/{}/{}/{}.png'.format(INPUT_PATH_PNG, data_set, subdir, fn)\n",
    "    output_file = '{}/{}/{}/{}.png'.format(OUTPUT_PATH_PNG_512, data_set, subdir, fn)\n",
    "    return(input_file, output_file)\n",
    "\n",
    "def resize_img_set(data_set, fn, size):\n",
    "    for subdir in ['map', 'sat']:\n",
    "        input_file, output_file = resize_img(fn, data_set, subdir)\n",
    "        Image.open(input_file).resize((size,size)).save(output_file)"
   ]
  },
  {
   "cell_type": "code",
   "execution_count": 17,
   "metadata": {},
   "outputs": [],
   "source": [
    "train_ids = get_ids(INPUT_PATH_PNG, 'train')\n",
    "for fn in train_ids:\n",
    "    resize_img_set('train', fn, 512)"
   ]
  },
  {
   "cell_type": "markdown",
   "metadata": {},
   "source": [
    "### Resize the VALIDation data"
   ]
  },
  {
   "cell_type": "code",
   "execution_count": 18,
   "metadata": {},
   "outputs": [],
   "source": [
    "valid_ids = get_ids(INPUT_PATH_PNG, 'valid')\n",
    "for fn in valid_ids:\n",
    "    resize_img_set('valid', fn, 512)"
   ]
  },
  {
   "cell_type": "markdown",
   "metadata": {},
   "source": [
    "### Resize TEST data"
   ]
  },
  {
   "cell_type": "code",
   "execution_count": 19,
   "metadata": {},
   "outputs": [],
   "source": [
    "test_ids = get_ids(INPUT_PATH_PNG, 'test')\n",
    "for fn in test_ids:\n",
    "    resize_img_set('test', fn, 512)"
   ]
  },
  {
   "cell_type": "markdown",
   "metadata": {},
   "source": [
    "## Display a single image"
   ]
  },
  {
   "cell_type": "code",
   "execution_count": 10,
   "metadata": {},
   "outputs": [],
   "source": [
    "def get_filenames(path, data_set):\n",
    "    ''' Look in the \"sat\" directory and get the filenames from here. The\n",
    "    same filenames appear in the \"map\" directory - no need to do it as well.'''\n",
    "    sat_dir = '{}/{}/sat/'.format(path, data_set)\n",
    "    sat_file_dir = '{}*.png'.format(sat_dir)\n",
    "    sat_files = glob(sat_file_dir)\n",
    "    map_dir = '{}/{}/map/'.format(path, data_set)\n",
    "    map_file_dir = '{}*.png'.format(map_dir)\n",
    "    map_files = glob(map_file_dir)\n",
    "    return (sat_files, map_files)"
   ]
  },
  {
   "cell_type": "code",
   "execution_count": 11,
   "metadata": {},
   "outputs": [
    {
     "data": {
      "text/plain": [
       "['/home/ubuntu/fastai/data/roads/mass_roads_png_512/train/sat/22978885_15.png',\n",
       " '/home/ubuntu/fastai/data/roads/mass_roads_png_512/train/sat/25679230_15.png',\n",
       " '/home/ubuntu/fastai/data/roads/mass_roads_png_512/train/sat/22678870_15.png',\n",
       " '/home/ubuntu/fastai/data/roads/mass_roads_png_512/train/sat/17128885_15.png',\n",
       " '/home/ubuntu/fastai/data/roads/mass_roads_png_512/train/sat/23428960_15.png']"
      ]
     },
     "execution_count": 11,
     "metadata": {},
     "output_type": "execute_result"
    }
   ],
   "source": [
    "train_sat_fns, train_map_fns = get_filenames(OUTPUT_PATH_PNG_512, 'train')\n",
    "train_sat_fns[:5]"
   ]
  },
  {
   "cell_type": "code",
   "execution_count": 17,
   "metadata": {},
   "outputs": [
    {
     "name": "stdout",
     "output_type": "stream",
     "text": [
      "1108\r\n"
     ]
    }
   ],
   "source": [
    "!ls /home/ubuntu/fastai/data/roads/mass_roads_png_512/train/sat | wc -l\n"
   ]
  },
  {
   "cell_type": "code",
   "execution_count": 19,
   "metadata": {},
   "outputs": [],
   "source": [
    "num_files = !ls /home/ubuntu/fastai/data/roads/mass_roads_png_512/train/sat | wc -l\n",
    "nf = int(num_files[0])"
   ]
  },
  {
   "cell_type": "code",
   "execution_count": 27,
   "metadata": {},
   "outputs": [],
   "source": [
    "import random"
   ]
  },
  {
   "cell_type": "code",
   "execution_count": 30,
   "metadata": {},
   "outputs": [
    {
     "name": "stdout",
     "output_type": "stream",
     "text": [
      "Image shape: (512, 512, 3) | image type: uint8 | mask shape: (512, 512) | mask type: uint8\n"
     ]
    },
    {
     "data": {
      "text/plain": [
       "<matplotlib.image.AxesImage at 0x7f1c773cd240>"
      ]
     },
     "execution_count": 30,
     "metadata": {},
     "output_type": "execute_result"
    },
    {
     "data": {
      "image/png": "[encoded data removed]",
      "text/plain": [
       "<Figure size 432x288 with 3 Axes>"
      ]
     },
     "metadata": {},
     "output_type": "display_data"
    }
   ],
   "source": [
    "fm = random.choice(train_map_fns)\n",
    "fs = random.choice(train_sat_fns)\n",
    "\n",
    "mask = cv2.imread(fm,0)\n",
    "img = cv2.imread(fs)\n",
    "\n",
    "img_masked = cv2.bitwise_and(img, img, mask=mask)\n",
    "\n",
    "print(\"Image shape: {} | image type: {} | mask shape: {} | mask type: {}\".format(img.shape, img.dtype, mask.shape, mask.dtype) )\n",
    "\n",
    "plt.subplot(131)\n",
    "plt.imshow(img)\n",
    "plt.subplot(132)\n",
    "plt.imshow(mask)\n",
    "plt.subplot(133)\n",
    "plt.imshow(img_masked)"
   ]
  },
  {
   "cell_type": "code",
   "execution_count": null,
   "metadata": {},
   "outputs": [],
   "source": []
  }
 ],
 "metadata": {
  "kernelspec": {
   "display_name": "Python [default]",
   "language": "python",
   "name": "python3"
  },
  "language_info": {
   "codemirror_mode": {
    "name": "ipython",
    "version": 3
   },
   "file_extension": ".py",
   "mimetype": "text/x-python",
   "name": "python",
   "nbconvert_exporter": "python",
   "pygments_lexer": "ipython3",
   "version": "3.6.4"
  }
 },
 "nbformat": 4,
 "nbformat_minor": 2
}
